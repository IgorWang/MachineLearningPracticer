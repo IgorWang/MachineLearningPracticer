{
 "cells": [
  {
   "cell_type": "markdown",
   "metadata": {},
   "source": [
    "##Word2 Vectors and Sentiment Analysis\n",
    "- Softmax function\n",
    "- simple neural network\n",
    "- Back propagation\n",
    "- Word2vec models"
   ]
  },
  {
   "cell_type": "code",
   "execution_count": 3,
   "metadata": {
    "collapsed": false
   },
   "outputs": [],
   "source": [
    "import random\n",
    "import numpy as np\n",
    "from cs224d.data_utils import *\n",
    "import matplotlib.pyplot as plt\n",
    "\n",
    "%matplotlib inline\n",
    "plt.rcParams['figure.figsize'] = (10.0,8.0)\n",
    "plt.rcParams['image.interpolation']='nearest'\n",
    "plt.rcParams['image.cmap']='gray'\n",
    "\n",
    "%load_ext autoreload\n",
    "%autoreload 2"
   ]
  },
  {
   "cell_type": "markdown",
   "metadata": {},
   "source": [
    "##1. Softmax"
   ]
  },
  {
   "cell_type": "code",
   "execution_count": 10,
   "metadata": {
    "collapsed": true
   },
   "outputs": [],
   "source": [
    "def softmax(x):\n",
    "    '''Softmax function\n",
    "    实现Softmax函数\n",
    "    输入：矩阵输入,[[x_11,x_12...,x_1n],[x_21,...,x_2n]...]\n",
    "    '''\n",
    "    xarr = np.array(x)\n",
    "    xmax = np.max(xarr,axis=1,keepdims=True)\n",
    "    e = np.exp(xarr - xmax)\n",
    "    dist = e / np.sum(e,axis=1,keepdims=True)\n",
    "    return dist"
   ]
  },
  {
   "cell_type": "code",
   "execution_count": 14,
   "metadata": {
    "collapsed": false
   },
   "outputs": [
    {
     "name": "stdout",
     "output_type": "stream",
     "text": [
      "[[ 0.26894142  0.73105858]\n",
      " [ 0.26894142  0.73105858]]\n",
      "[[ 0.26894142  0.73105858]\n",
      " [ 0.26894142  0.73105858]]\n",
      "[[ 0.73105858  0.26894142]]\n"
     ]
    }
   ],
   "source": [
    "#test softmax\n",
    "x = [[1,2],[3,4]]\n",
    "print(softmax(x))\n",
    "print(softmax(np.array([[1001,1002],[3,4]])))\n",
    "print(softmax([[-1001,-1002]]))"
   ]
  },
  {
   "cell_type": "markdown",
   "metadata": {},
   "source": [
    "## 2. Neural network basics"
   ]
  },
  {
   "cell_type": "markdown",
   "metadata": {},
   "source": [
    "- sigmoid activation function and its gradient\n",
    "- 向前传播和简单的神经网络（cross-entropy cost）\n",
    "- 向后传播算法算法\n",
    "- Gradient / derivation check"
   ]
  },
  {
   "cell_type": "code",
   "execution_count": 15,
   "metadata": {
    "collapsed": true
   },
   "outputs": [],
   "source": [
    "def sigmoid(x):\n",
    "    '''Sigmoid function'''\n",
    "    return 1.0 /( 1  + np.exp(-x))\n",
    "\n",
    "def sigmoid_grad(f):\n",
    "    '''Sigmoid gradient function'''\n",
    "    return f*(1-f)"
   ]
  },
  {
   "cell_type": "code",
   "execution_count": 17,
   "metadata": {
    "collapsed": false
   },
   "outputs": [
    {
     "name": "stdout",
     "output_type": "stream",
     "text": [
      "[[ 0.73105858  0.88079708]\n",
      " [ 0.26894142  0.11920292]]\n",
      "[[ 0.19661193  0.10499359]\n",
      " [ 0.19661193  0.10499359]]\n"
     ]
    }
   ],
   "source": [
    "#test sigmoid\n",
    "x = np.array([[1,2],[-1,-2]])\n",
    "f = sigmoid(x)\n",
    "g = sigmoid_grad(f)\n",
    "print(f)\n",
    "print(g)"
   ]
  },
  {
   "cell_type": "code",
   "execution_count": 16,
   "metadata": {
    "collapsed": false
   },
   "outputs": [],
   "source": [
    "def gradchec_naive(f,x):\n",
    "    '''\n",
    "    对函数f的梯度检查,对求导的结果进行数值上的检验，验证代码求导是否正确\n",
    "    - f应该是一个函数，接收一个单独的参数，返回结果和它的梯度\n",
    "    - x\n",
    "    '''\n",
    "    rndstate = random.getstate()\n",
    "    random.setstate(rndstate)\n",
    "    fx,grad = f(x)\n",
    "    h =1e-4\n",
    "    \n",
    "    it = np.nditer(x,flags=['multi_index'],op_flags=['readwrite'])\n",
    "    while not it.finished:\n",
    "        ix = it.multi_index\n",
    "        \n",
    "        old_value = x[ix]\n",
    "        x[ix] = old_value -h\n",
    "        random.setstate(rndstate)\n",
    "        fx_h1,grad_h1 = f(x)\n",
    "        \n",
    "        x[ix] = old_value + h\n",
    "        random.setstate(rndstate)\n",
    "        fx_h2,grad_h2 = f(x)\n",
    "        \n",
    "        numgrad = (fx_h2 - fx_h1)/(2*h)\n",
    "        x[ix] = old_value\n",
    "        \n",
    "        # 比较梯度\n",
    "        reidiff = abs(numgrad - grad[ix]) / max(1,abs(numgrad),abs(grad[ix]))\n",
    "        if reidiff > 1e-5:\n",
    "            print(\"梯度检查失败.\")\n",
    "            print(\"第一梯度错误在索引%s处\"%str(ix))\n",
    "            print(\"公式的梯度：%f;\\t数字逼近的梯度：%f\"%(grad[ix],numgrad))\n",
    "            return\n",
    "        it.iternext() #Step to next dimentsion\n",
    "        \n",
    "    print(\"梯度检查通过!\")\n",
    "        \n",
    "        "
   ]
  },
  {
   "cell_type": "markdown",
   "metadata": {},
   "source": [
    "$$\\frac {d} {d \\theta} J(\\theta) = \\lim_{\\epsilon \\rightarrow} \\frac {J \n",
    "(\\theta + \\epsilon) - J(\\theta - \\epsilon)}{2 \\epsilon}$$\n",
    "\n",
    "那么对于任意的$\\theta$值，都可以用右边的等式来近似梯度"
   ]
  },
  {
   "cell_type": "code",
   "execution_count": 18,
   "metadata": {
    "collapsed": false
   },
   "outputs": [
    {
     "name": "stdout",
     "output_type": "stream",
     "text": [
      "梯度检查通过!\n",
      "梯度检查通过!\n",
      "梯度检查通过!\n"
     ]
    }
   ],
   "source": [
    "#测试梯度检查\n",
    "quad = lambda x: (np.sum(x**2),x*2)\n",
    "gradchec_naive(quad,np.array(123.456)) #标量测试\n",
    "gradchec_naive(quad,np.random.randn(3,)) #一维\n",
    "gradchec_naive(quad,np.random.randn(4,5))#多维"
   ]
  },
  {
   "cell_type": "code",
   "execution_count": null,
   "metadata": {
    "collapsed": true
   },
   "outputs": [],
   "source": []
  }
 ],
 "metadata": {
  "kernelspec": {
   "display_name": "Python 3",
   "language": "python",
   "name": "python3"
  },
  "language_info": {
   "codemirror_mode": {
    "name": "ipython",
    "version": 3
   },
   "file_extension": ".py",
   "mimetype": "text/x-python",
   "name": "python",
   "nbconvert_exporter": "python",
   "pygments_lexer": "ipython3",
   "version": "3.4.3"
  }
 },
 "nbformat": 4,
 "nbformat_minor": 0
}
