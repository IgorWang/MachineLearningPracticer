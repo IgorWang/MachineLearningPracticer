{
 "cells": [
  {
   "cell_type": "markdown",
   "metadata": {
    "collapsed": true
   },
   "source": [
    "##Cross-validation and Bootstrap"
   ]
  },
  {
   "cell_type": "code",
   "execution_count": 1,
   "metadata": {
    "collapsed": true
   },
   "outputs": [],
   "source": [
    "import pandas as pd\n",
    "import numpy as np\n",
    "import scipy as sp\n",
    "import matplotlib.pyplot as plt\n",
    "%matplotlib inline"
   ]
  },
  {
   "cell_type": "code",
   "execution_count": 2,
   "metadata": {
    "collapsed": false
   },
   "outputs": [
    {
     "data": {
      "text/html": [
       "<div>\n",
       "<table border=\"1\" class=\"dataframe\">\n",
       "  <thead>\n",
       "    <tr style=\"text-align: right;\">\n",
       "      <th></th>\n",
       "      <th>mpg</th>\n",
       "      <th>cylinders</th>\n",
       "      <th>displacement</th>\n",
       "      <th>horsepower</th>\n",
       "      <th>weight</th>\n",
       "      <th>acceleration</th>\n",
       "      <th>year</th>\n",
       "      <th>origin</th>\n",
       "      <th>name</th>\n",
       "    </tr>\n",
       "  </thead>\n",
       "  <tbody>\n",
       "    <tr>\n",
       "      <th>0</th>\n",
       "      <td>18</td>\n",
       "      <td>8</td>\n",
       "      <td>307</td>\n",
       "      <td>130</td>\n",
       "      <td>3504</td>\n",
       "      <td>12.0</td>\n",
       "      <td>70</td>\n",
       "      <td>1</td>\n",
       "      <td>chevrolet chevelle malibu</td>\n",
       "    </tr>\n",
       "    <tr>\n",
       "      <th>1</th>\n",
       "      <td>15</td>\n",
       "      <td>8</td>\n",
       "      <td>350</td>\n",
       "      <td>165</td>\n",
       "      <td>3693</td>\n",
       "      <td>11.5</td>\n",
       "      <td>70</td>\n",
       "      <td>1</td>\n",
       "      <td>buick skylark 320</td>\n",
       "    </tr>\n",
       "    <tr>\n",
       "      <th>2</th>\n",
       "      <td>18</td>\n",
       "      <td>8</td>\n",
       "      <td>318</td>\n",
       "      <td>150</td>\n",
       "      <td>3436</td>\n",
       "      <td>11.0</td>\n",
       "      <td>70</td>\n",
       "      <td>1</td>\n",
       "      <td>plymouth satellite</td>\n",
       "    </tr>\n",
       "    <tr>\n",
       "      <th>3</th>\n",
       "      <td>16</td>\n",
       "      <td>8</td>\n",
       "      <td>304</td>\n",
       "      <td>150</td>\n",
       "      <td>3433</td>\n",
       "      <td>12.0</td>\n",
       "      <td>70</td>\n",
       "      <td>1</td>\n",
       "      <td>amc rebel sst</td>\n",
       "    </tr>\n",
       "    <tr>\n",
       "      <th>4</th>\n",
       "      <td>17</td>\n",
       "      <td>8</td>\n",
       "      <td>302</td>\n",
       "      <td>140</td>\n",
       "      <td>3449</td>\n",
       "      <td>10.5</td>\n",
       "      <td>70</td>\n",
       "      <td>1</td>\n",
       "      <td>ford torino</td>\n",
       "    </tr>\n",
       "  </tbody>\n",
       "</table>\n",
       "</div>"
      ],
      "text/plain": [
       "   mpg  cylinders  displacement  horsepower  weight  acceleration  year  \\\n",
       "0   18          8           307         130    3504          12.0    70   \n",
       "1   15          8           350         165    3693          11.5    70   \n",
       "2   18          8           318         150    3436          11.0    70   \n",
       "3   16          8           304         150    3433          12.0    70   \n",
       "4   17          8           302         140    3449          10.5    70   \n",
       "\n",
       "   origin                       name  \n",
       "0       1  chevrolet chevelle malibu  \n",
       "1       1          buick skylark 320  \n",
       "2       1         plymouth satellite  \n",
       "3       1              amc rebel sst  \n",
       "4       1                ford torino  "
      ]
     },
     "execution_count": 2,
     "metadata": {},
     "output_type": "execute_result"
    }
   ],
   "source": [
    "#读取数据集\n",
    "auto_df = pd.read_csv('data/Auto.csv', na_values = \"?\")\n",
    "auto_df.dropna(inplace = True)\n",
    "auto_df.head()"
   ]
  },
  {
   "cell_type": "code",
   "execution_count": 11,
   "metadata": {
    "collapsed": false
   },
   "outputs": [
    {
     "data": {
      "text/plain": [
       "<matplotlib.text.Text at 0xacf1320>"
      ]
     },
     "execution_count": 11,
     "metadata": {},
     "output_type": "execute_result"
    },
    {
     "data": {
      "image/png": "[encoded data removed]",
      "text/plain": [
       "<matplotlib.figure.Figure at 0xab18208>"
      ]
     },
     "metadata": {},
     "output_type": "display_data"
    }
   ],
   "source": [
    "fig, ax = plt.subplots()\n",
    "ax.scatter(x=auto_df['horsepower'],y=auto_df['mpg'])\n",
    "ax.set_ylabel('mpg')"
   ]
  },
  {
   "cell_type": "markdown",
   "metadata": {},
   "source": [
    "##Leave One Out Cross Validation(LOOCV)"
   ]
  },
  {
   "cell_type": "code",
   "execution_count": 3,
   "metadata": {
    "collapsed": true
   },
   "outputs": [],
   "source": [
    "from sklearn.linear_model import LinearRegression\n",
    "from sklearn.cross_validation import LeaveOneOut\n",
    "from sklearn.metrics import mean_squared_error"
   ]
  },
  {
   "cell_type": "code",
   "execution_count": 4,
   "metadata": {
    "collapsed": false
   },
   "outputs": [
    {
     "data": {
      "text/plain": [
       "24.231513517929226"
      ]
     },
     "execution_count": 4,
     "metadata": {},
     "output_type": "execute_result"
    }
   ],
   "source": [
    "clf = LinearRegression()\n",
    "loo = LeaveOneOut(len(auto_df))\n",
    "#loo提供了训练和测试的索引\n",
    "X = auto_df[['horsepower']].values\n",
    "y = auto_df['mpg'].values\n",
    "n = np.shape(X)[0]\n",
    "mses =[]\n",
    "for train, test  in loo:\n",
    "    Xtrain,ytrain,Xtest,ytest = X[train],y[train],X[test],y[test]\n",
    "    clf.fit(Xtrain,ytrain)\n",
    "    ypred = clf.predict(Xtest)\n",
    "    mses.append(mean_squared_error(ytest,ypred))\n",
    "np.mean(mses)"
   ]
  },
  {
   "cell_type": "code",
   "execution_count": 13,
   "metadata": {
    "collapsed": false
   },
   "outputs": [
    {
     "data": {
      "text/plain": [
       "24.23151351792923"
      ]
     },
     "execution_count": 13,
     "metadata": {},
     "output_type": "execute_result"
    }
   ],
   "source": [
    "def loo_shortcut(X,y):\n",
    "    clf = LinearRegression()\n",
    "    clf.fit(X,y)\n",
    "    ypred = clf.predict(X)\n",
    "    xbar = np.mean(X,axis =0)\n",
    "    xsum = np.sum(np.power(X-xbar,2))\n",
    "    nrows = np.shape(X)[0]\n",
    "    mses = []\n",
    "    for row in range(0,nrows):\n",
    "        hi = (1 / nrows) + (np.sum(X[row] - xbar) ** 2 / xsum)\n",
    "        mse = ((y[row] - ypred[row])/(1-hi))**2\n",
    "        mses.append(mse)\n",
    "    return np.mean(mses)\n",
    "\n",
    "loo_shortcut(auto_df[['horsepower']].values,auto_df['mpg'].values)"
   ]
  },
  {
   "cell_type": "markdown",
   "metadata": {},
   "source": [
    "$$CV_{(n)} = \\frac {1} {n} \\sum_{i =1}^n (\\frac{y_i - \\hat y_i}{1- h_i})^2$$"
   ]
  },
  {
   "cell_type": "markdown",
   "metadata": {},
   "source": [
    "$$ h_i = \\frac {1}{h} + \\frac{(x_i -  \\bar x)^2}{\\sum_{i'=1} ^n (x_i' - \\bar x)^2 }$$"
   ]
  },
  {
   "cell_type": "code",
   "execution_count": 16,
   "metadata": {
    "collapsed": false
   },
   "outputs": [
    {
     "data": {
      "text/plain": [
       "<matplotlib.text.Text at 0x9035be0>"
      ]
     },
     "execution_count": 16,
     "metadata": {},
     "output_type": "execute_result"
    },
    {
     "data": {
      "image/png": "[encoded data removed]",
      "text/plain": [
       "<matplotlib.figure.Figure at 0x901aa90>"
      ]
     },
     "metadata": {},
     "output_type": "display_data"
    }
   ],
   "source": [
    "# LOOCV 应用于同一种模型不同复杂度的选择\n",
    "auto_df['horsepower^2'] = auto_df['horsepower'] * auto_df['horsepower']\n",
    "auto_df['horsepower^3'] = auto_df['horsepower^2'] * auto_df['horsepower']\n",
    "auto_df['horsepower^4'] = auto_df['horsepower^3'] * auto_df['horsepower']\n",
    "auto_df['horsepower^5'] = auto_df['horsepower^4'] * auto_df['horsepower']\n",
    "auto_df['unit'] = 1\n",
    "colnames = [\"unit\", \"horsepower\", \"horsepower^2\", \"horsepower^3\", \"horsepower^4\", \"horsepower^5\"]\n",
    "cv_errors = []\n",
    "for ncols in range(2,6):\n",
    "    X = auto_df[colnames[0:ncols]]\n",
    "    y = auto_df['mpg']\n",
    "    clf = LinearRegression()\n",
    "    clf.fit(X,y)\n",
    "    cv_errors.append(loo_shortcut(X.values,y.values))\n",
    "plt.plot(range(1,5),cv_errors)\n",
    "plt.xlabel('degree')\n",
    "plt.ylabel('cv.error')"
   ]
  },
  {
   "cell_type": "markdown",
   "metadata": {},
   "source": [
    "##K-Fold Cross Validation"
   ]
  },
  {
   "cell_type": "code",
   "execution_count": 17,
   "metadata": {
    "collapsed": true
   },
   "outputs": [],
   "source": [
    "from sklearn.cross_validation import KFold"
   ]
  },
  {
   "cell_type": "code",
   "execution_count": 19,
   "metadata": {
    "collapsed": false
   },
   "outputs": [
    {
     "data": {
      "text/plain": [
       "<matplotlib.text.Text at 0x95ec6d8>"
      ]
     },
     "execution_count": 19,
     "metadata": {},
     "output_type": "execute_result"
    },
    {
     "data": {
      "image/png": "[encoded data removed]",
      "text/plain": [
       "<matplotlib.figure.Figure at 0x90d9fd0>"
      ]
     },
     "metadata": {},
     "output_type": "display_data"
    }
   ],
   "source": [
    "cv_errors = []\n",
    "for ncols in range(2,6):\n",
    "    X = auto_df[colnames[0:ncols]].values\n",
    "    y = auto_df['mpg'].values\n",
    "    kfold = KFold(len(auto_df),n_folds = 10)\n",
    "    mses =[]\n",
    "    for train,test in kfold:\n",
    "        Xtrain,ytrain,Xtest,ytest = X[train],y[train],X[test],y[test]\n",
    "        clf.fit(X,y)\n",
    "        ypred = clf.predict(Xtest)\n",
    "        mses.append(mean_squared_error(ypred,ytest))\n",
    "    cv_errors.append(np.mean(mses))\n",
    "plt.plot(range(1,5),cv_errors)\n",
    "plt.xlabel(\"degree\")\n",
    "plt.ylabel('cv.error')"
   ]
  },
  {
   "cell_type": "markdown",
   "metadata": {},
   "source": [
    "##Bootstrap"
   ]
  },
  {
   "cell_type": "code",
   "execution_count": 20,
   "metadata": {
    "collapsed": true
   },
   "outputs": [],
   "source": [
    "from sklearn.cross_validation import Bootstrap"
   ]
  },
  {
   "cell_type": "code",
   "execution_count": 24,
   "metadata": {
    "collapsed": false
   },
   "outputs": [
    {
     "name": "stderr",
     "output_type": "stream",
     "text": [
      "C:\\Program Files (x86)\\WinPython-64bit-3.4.3.4\\python-3.4.3.amd64\\lib\\site-packages\\sklearn\\cross_validation.py:688: DeprecationWarning: Bootstrap will no longer be supported as a cross-validation method as of version 0.15 and will be removed in 0.17\n",
      "  \"will be removed in 0.17\", DeprecationWarning)\n",
      "C:\\Program Files (x86)\\WinPython-64bit-3.4.3.4\\python-3.4.3.amd64\\lib\\site-packages\\sklearn\\cross_validation.py:688: DeprecationWarning: Bootstrap will no longer be supported as a cross-validation method as of version 0.15 and will be removed in 0.17\n",
      "  \"will be removed in 0.17\", DeprecationWarning)\n",
      "C:\\Program Files (x86)\\WinPython-64bit-3.4.3.4\\python-3.4.3.amd64\\lib\\site-packages\\sklearn\\cross_validation.py:688: DeprecationWarning: Bootstrap will no longer be supported as a cross-validation method as of version 0.15 and will be removed in 0.17\n",
      "  \"will be removed in 0.17\", DeprecationWarning)\n",
      "C:\\Program Files (x86)\\WinPython-64bit-3.4.3.4\\python-3.4.3.amd64\\lib\\site-packages\\sklearn\\cross_validation.py:688: DeprecationWarning: Bootstrap will no longer be supported as a cross-validation method as of version 0.15 and will be removed in 0.17\n",
      "  \"will be removed in 0.17\", DeprecationWarning)\n"
     ]
    },
    {
     "data": {
      "text/plain": [
       "<matplotlib.text.Text at 0xa662fd0>"
      ]
     },
     "execution_count": 24,
     "metadata": {},
     "output_type": "execute_result"
    },
    {
     "data": {
      "image/png": "[encoded data removed]",
      "text/plain": [
       "<matplotlib.figure.Figure at 0x9667940>"
      ]
     },
     "metadata": {},
     "output_type": "display_data"
    }
   ],
   "source": [
    "cv_errors = []\n",
    "for ncols in range(2,6):\n",
    "    X = auto_df[colnames[0:ncols]].values\n",
    "    y = auto_df['mpg'].values\n",
    "    n = len(auto_df)\n",
    "    bs = Bootstrap(n,train_size=int(0.9*n),test_size=int(0.1*n),n_iter=10,random_state=0)\n",
    "    mses = []\n",
    "    for train,test in bs:\n",
    "        Xtrain,ytrain,Xtest,ytest = X[train],y[train],X[test],y[test]\n",
    "        clf = LinearRegression()\n",
    "        clf.fit(X,y)\n",
    "        ypred = clf.predict(Xtest)\n",
    "        mses.append(mean_squared_error(ypred,ytest))\n",
    "    cv_errors.append(np.mean(mses))\n",
    "plt.plot(range(1,5),cv_errors)\n",
    "plt.xlabel('degree')\n",
    "plt.ylabel('cv.error')"
   ]
  },
  {
   "cell_type": "code",
   "execution_count": null,
   "metadata": {
    "collapsed": true
   },
   "outputs": [],
   "source": []
  }
 ],
 "metadata": {
  "kernelspec": {
   "display_name": "Python 3",
   "language": "python",
   "name": "python3"
  },
  "language_info": {
   "codemirror_mode": {
    "name": "ipython",
    "version": 3
   },
   "file_extension": ".py",
   "mimetype": "text/x-python",
   "name": "python",
   "nbconvert_exporter": "python",
   "pygments_lexer": "ipython3",
   "version": "3.4.3"
  }
 },
 "nbformat": 4,
 "nbformat_minor": 0
}
